{
 "cells": [
  {
   "cell_type": "code",
   "execution_count": null,
   "id": "b3a398a9",
   "metadata": {},
   "outputs": [],
   "source": [
    "# ruff: noqa: I001\n",
    "import numpy as np\n",
    "import json\n",
    "\n",
    "\n",
    "def convert_arrays_to_lists(obj):\n",
    "    if isinstance(obj, np.ndarray):\n",
    "        return obj.tolist()\n",
    "    elif isinstance(obj, dict):\n",
    "        return {key: convert_arrays_to_lists(value) for key, value in obj.items()}\n",
    "    elif isinstance(obj, list):\n",
    "        return [convert_arrays_to_lists(item) for item in obj]\n",
    "    else:\n",
    "        return obj\n",
    "\n",
    "\n",
    "def read_npz(file_path):\n",
    "    \"\"\"\n",
    "    读取NPZ文件并返回包含所有数组的字典\n",
    "    参数:\n",
    "        file_path (str): NPZ文件的路径\n",
    "    返回:\n",
    "        dict: 包含所有数组的字典（键是数组名称，值是NumPy数组），读取失败时返回None\n",
    "    \"\"\"\n",
    "    try:\n",
    "        with np.load(file_path) as data:\n",
    "            ret =  {key: data[key] for key in data.files}\n",
    "            # return ret\n",
    "            if 'time' in ret.keys():\n",
    "                del ret['time']\n",
    "            for key in ret.keys():\n",
    "                ret[key] = convert_arrays_to_lists(ret[key])[0]\n",
    "            return ret\n",
    "    except Exception as e:\n",
    "        print(f\"读取文件失败: {e}\")\n",
    "        return None\n",
    "\n",
    "\n",
    "\n",
    "def show_npz(file_path):\n",
    "    data_dict = read_npz(file_path)\n",
    "    json_str = json.dumps(\n",
    "        data_dict,\n",
    "        indent=4,               # 缩进2个空格\n",
    "        ensure_ascii=False,      # 支持中文\n",
    "    )\n",
    "    print(json_str)\n",
    "\n",
    "def show_dict_keys(path):\n",
    "    \"\"\"\n",
    "    打印字典的键\n",
    "    参数:\n",
    "        data_dict (dict): 要打印的字典\n",
    "    \"\"\"\n",
    "    data_dict = read_npz(path)\n",
    "    for key in data_dict.keys():\n",
    "        print(key)"
   ]
  },
  {
   "cell_type": "code",
   "execution_count": 4,
   "id": "b85a09cd",
   "metadata": {},
   "outputs": [
    {
     "name": "stdout",
     "output_type": "stream",
     "text": [
      "{'locs': [[0.19151945412158966, 0.6221087574958801], [0.43772774934768677, 0.7853586077690125], [0.7799758315086365, 0.27259260416030884], [0.2764642536640167, 0.801872193813324], [0.9581393599510193, 0.8759326338768005], [0.35781726241111755, 0.5009950995445251], [0.683462917804718, 0.7127020359039307], [0.37025076150894165, 0.5611962080001831], [0.5030831694602966, 0.013768449425697327], [0.772826611995697, 0.8826411962509155], [0.36488598585128784, 0.6153962016105652], [0.07538124173879623, 0.3688240051269531], [0.9331400990486145, 0.6513781547546387], [0.39720258116722107, 0.7887301445007324], [0.3168361186981201, 0.5680986642837524], [0.8691273927688599, 0.4361734092235565]], 'demand_linehaul': [0.06666667014360428, 0.2666666805744171, 0.1666666716337204, 0.03333333507180214, 0.20000000298023224, 0.06666667014360428, 0.20000000298023224, 0.1666666716337204, 0.03333333507180214, 0.30000001192092896, 0.30000001192092896, 0.23333333432674408, 0.30000001192092896, 0.23333333432674408, 0.13333334028720856], 'vehicle_capacity': [1.0], 'speed': [1.0], 'num_depots': [1]}\n"
     ]
    }
   ],
   "source": [
    "path = \"dataset/cvrp/test/15.npz\"  # 替换为你的NPZ文件路径\n",
    "dt = read_npz(path)\n",
    "print(dt)"
   ]
  },
  {
   "cell_type": "code",
   "execution_count": 5,
   "id": "3bfdcfe5",
   "metadata": {},
   "outputs": [
    {
     "name": "stdout",
     "output_type": "stream",
     "text": [
      "{\n",
      "    \"locs\": [\n",
      "        [\n",
      "            0.19151945412158966,\n",
      "            0.6221087574958801\n",
      "        ],\n",
      "        [\n",
      "            0.43772774934768677,\n",
      "            0.7853586077690125\n",
      "        ],\n",
      "        [\n",
      "            0.7799758315086365,\n",
      "            0.27259260416030884\n",
      "        ],\n",
      "        [\n",
      "            0.2764642536640167,\n",
      "            0.801872193813324\n",
      "        ],\n",
      "        [\n",
      "            0.9581393599510193,\n",
      "            0.8759326338768005\n",
      "        ],\n",
      "        [\n",
      "            0.35781726241111755,\n",
      "            0.5009950995445251\n",
      "        ],\n",
      "        [\n",
      "            0.683462917804718,\n",
      "            0.7127020359039307\n",
      "        ],\n",
      "        [\n",
      "            0.37025076150894165,\n",
      "            0.5611962080001831\n",
      "        ],\n",
      "        [\n",
      "            0.5030831694602966,\n",
      "            0.013768449425697327\n",
      "        ],\n",
      "        [\n",
      "            0.772826611995697,\n",
      "            0.8826411962509155\n",
      "        ],\n",
      "        [\n",
      "            0.36488598585128784,\n",
      "            0.6153962016105652\n",
      "        ],\n",
      "        [\n",
      "            0.07538124173879623,\n",
      "            0.3688240051269531\n",
      "        ],\n",
      "        [\n",
      "            0.9331400990486145,\n",
      "            0.6513781547546387\n",
      "        ],\n",
      "        [\n",
      "            0.39720258116722107,\n",
      "            0.7887301445007324\n",
      "        ],\n",
      "        [\n",
      "            0.3168361186981201,\n",
      "            0.5680986642837524\n",
      "        ],\n",
      "        [\n",
      "            0.8691273927688599,\n",
      "            0.4361734092235565\n",
      "        ]\n",
      "    ],\n",
      "    \"demand_linehaul\": [\n",
      "        0.06666667014360428,\n",
      "        0.2666666805744171,\n",
      "        0.1666666716337204,\n",
      "        0.03333333507180214,\n",
      "        0.20000000298023224,\n",
      "        0.06666667014360428,\n",
      "        0.20000000298023224,\n",
      "        0.1666666716337204,\n",
      "        0.03333333507180214,\n",
      "        0.30000001192092896,\n",
      "        0.30000001192092896,\n",
      "        0.23333333432674408,\n",
      "        0.30000001192092896,\n",
      "        0.23333333432674408,\n",
      "        0.13333334028720856\n",
      "    ],\n",
      "    \"vehicle_capacity\": [\n",
      "        1.0\n",
      "    ],\n",
      "    \"speed\": [\n",
      "        1.0\n",
      "    ],\n",
      "    \"num_depots\": [\n",
      "        1\n",
      "    ]\n",
      "}\n"
     ]
    }
   ],
   "source": [
    "import json\n",
    "\n",
    "s = json.dumps(dt, indent=4, ensure_ascii=False)\n",
    "print(s)"
   ]
  },
  {
   "cell_type": "code",
   "execution_count": null,
   "id": "05475efb",
   "metadata": {},
   "outputs": [],
   "source": [
    "print(type(s))"
   ]
  },
  {
   "cell_type": "code",
   "execution_count": null,
   "id": "5819228f",
   "metadata": {},
   "outputs": [],
   "source": [
    "print(dt['locs'])"
   ]
  },
  {
   "cell_type": "code",
   "execution_count": 3,
   "id": "b0212816",
   "metadata": {},
   "outputs": [
    {
     "name": "stdout",
     "output_type": "stream",
     "text": [
      "读取文件失败: list index out of range\n",
      "null\n"
     ]
    }
   ],
   "source": [
    "path = \"data/mdovrpbl/test/15.npz\"  # 替换为你的NPZ文件路径\n",
    "show_npz(path)"
   ]
  },
  {
   "cell_type": "code",
   "execution_count": null,
   "id": "06627457",
   "metadata": {},
   "outputs": [],
   "source": [
    "path = \"dataset/cvrp/test/15_sol_pyvrp.npz\"\n",
    "print(read_npz(path))"
   ]
  },
  {
   "cell_type": "code",
   "execution_count": null,
   "id": "f4ef9098",
   "metadata": {},
   "outputs": [],
   "source": [
    "dct = read_npz('data/cvrp/test/50_sol_ortools.npz')\n",
    "print(dct['costs'])"
   ]
  },
  {
   "cell_type": "code",
   "execution_count": null,
   "id": "5029d6d0",
   "metadata": {},
   "outputs": [],
   "source": [
    "import os\n",
    "\n",
    "lst = os.listdir('data')\n",
    "\n",
    "for type in lst:\n",
    "    # path = \"dataset/cvrp/test/50.npz\"\n",
    "    path = os.path.join('data', type, 'test', '50_sol_pyvrp.npz')\n",
    "    print(read_npz(path))"
   ]
  },
  {
   "cell_type": "markdown",
   "id": "0debc080",
   "metadata": {},
   "source": [
    "# test os.walk(\"data\")"
   ]
  },
  {
   "cell_type": "code",
   "execution_count": null,
   "id": "109d37ad",
   "metadata": {},
   "outputs": [],
   "source": [
    "import os\n",
    "\n",
    "# 遍历 \"data\" 目录\n",
    "for root, dirs, files in os.walk(\"data\"):\n",
    "    print(f\"当前目录: {root}\")\n",
    "    print(f\"子目录: {dirs}\")\n",
    "    print(f\"文件: {files}\\n\")"
   ]
  },
  {
   "cell_type": "markdown",
   "id": "898f607c",
   "metadata": {},
   "source": [
    "# run_or_solvers"
   ]
  },
  {
   "cell_type": "code",
   "execution_count": null,
   "id": "d8f8dd30",
   "metadata": {},
   "outputs": [],
   "source": [
    "data_files = ['dataset\\\\cvrp\\\\val\\\\15.npz', 'dataset\\\\ovrp\\\\val\\\\15.npz', 'dataset\\\\vrpb\\\\val\\\\15.npz', 'dataset\\\\vrpl\\\\val\\\\15.npz', 'dataset\\\\cvrp\\\\test\\\\15.npz', 'dataset\\\\ovrp\\\\test\\\\15.npz', 'dataset\\\\ovrpb\\\\val\\\\15.npz', 'dataset\\\\ovrpl\\\\val\\\\15.npz', 'dataset\\\\vrpb\\\\test\\\\15.npz', 'dataset\\\\vrpbl\\\\val\\\\15.npz', 'dataset\\\\vrpl\\\\test\\\\15.npz', 'dataset\\\\vrpmb\\\\val\\\\15.npz', 'dataset\\\\vrptw\\\\val\\\\15.npz', 'dataset\\\\mdcvrp\\\\val\\\\15.npz', 'dataset\\\\mdovrp\\\\val\\\\15.npz', 'dataset\\\\mdvrpb\\\\val\\\\15.npz', 'dataset\\\\mdvrpl\\\\val\\\\15.npz', 'dataset\\\\ovrpb\\\\test\\\\15.npz', 'dataset\\\\ovrpbl\\\\val\\\\15.npz', 'dataset\\\\ovrpl\\\\test\\\\15.npz', 'dataset\\\\ovrpmb\\\\val\\\\15.npz', 'dataset\\\\ovrptw\\\\val\\\\15.npz', 'dataset\\\\vrpbl\\\\test\\\\15.npz', 'dataset\\\\vrpbtw\\\\val\\\\15.npz', 'dataset\\\\vrpltw\\\\val\\\\15.npz', 'dataset\\\\vrpmb\\\\test\\\\15.npz', 'dataset\\\\vrpmbl\\\\val\\\\15.npz', 'dataset\\\\vrptw\\\\test\\\\15.npz', 'dataset\\\\mdcvrp\\\\test\\\\15.npz', 'dataset\\\\mdovrp\\\\test\\\\15.npz', 'dataset\\\\mdovrpb\\\\val\\\\15.npz', 'dataset\\\\mdovrpl\\\\val\\\\15.npz', 'dataset\\\\mdvrpb\\\\test\\\\15.npz', 'dataset\\\\mdvrpbl\\\\val\\\\15.npz', 'dataset\\\\mdvrpl\\\\test\\\\15.npz', 'dataset\\\\mdvrpmb\\\\val\\\\15.npz', 'dataset\\\\mdvrptw\\\\val\\\\15.npz', 'dataset\\\\ovrpbl\\\\test\\\\15.npz', 'dataset\\\\ovrpbtw\\\\val\\\\15.npz', 'dataset\\\\ovrpltw\\\\val\\\\15.npz', 'dataset\\\\ovrpmb\\\\test\\\\15.npz', 'dataset\\\\ovrpmbl\\\\val\\\\15.npz', 'dataset\\\\ovrptw\\\\test\\\\15.npz', 'dataset\\\\vrpbltw\\\\val\\\\15.npz', 'dataset\\\\vrpbtw\\\\test\\\\15.npz', 'dataset\\\\vrpltw\\\\test\\\\15.npz', 'dataset\\\\vrpmbl\\\\test\\\\15.npz', 'dataset\\\\vrpmbtw\\\\val\\\\15.npz', 'dataset\\\\mdovrpb\\\\test\\\\15.npz', 'dataset\\\\mdovrpbl\\\\val\\\\15.npz', 'dataset\\\\mdovrpl\\\\test\\\\15.npz', 'dataset\\\\mdovrpmb\\\\val\\\\15.npz', 'dataset\\\\mdovrptw\\\\val\\\\15.npz', 'dataset\\\\mdvrpbl\\\\test\\\\15.npz', 'dataset\\\\mdvrpbtw\\\\val\\\\15.npz', 'dataset\\\\mdvrpltw\\\\val\\\\15.npz', 'dataset\\\\mdvrpmb\\\\test\\\\15.npz', 'dataset\\\\mdvrpmbl\\\\val\\\\15.npz', 'dataset\\\\mdvrptw\\\\test\\\\15.npz', 'dataset\\\\ovrpbltw\\\\val\\\\15.npz', 'dataset\\\\ovrpbtw\\\\test\\\\15.npz', 'dataset\\\\ovrpltw\\\\test\\\\15.npz', 'dataset\\\\ovrpmbl\\\\test\\\\15.npz', 'dataset\\\\ovrpmbtw\\\\val\\\\15.npz', 'dataset\\\\vrpbltw\\\\test\\\\15.npz', 'dataset\\\\vrpmbltw\\\\val\\\\15.npz', 'dataset\\\\vrpmbtw\\\\test\\\\15.npz', 'dataset\\\\mdovrpbl\\\\test\\\\15.npz', 'dataset\\\\mdovrpbtw\\\\val\\\\15.npz', 'dataset\\\\mdovrpltw\\\\val\\\\15.npz', 'dataset\\\\mdovrpmb\\\\test\\\\15.npz', 'dataset\\\\mdovrpmbl\\\\val\\\\15.npz', 'dataset\\\\mdovrptw\\\\test\\\\15.npz', 'dataset\\\\mdvrpbltw\\\\val\\\\15.npz', 'dataset\\\\mdvrpbtw\\\\test\\\\15.npz', 'dataset\\\\mdvrpltw\\\\test\\\\15.npz', 'dataset\\\\mdvrpmbl\\\\test\\\\15.npz', 'dataset\\\\mdvrpmbtw\\\\val\\\\15.npz', 'dataset\\\\ovrpbltw\\\\test\\\\15.npz', 'dataset\\\\ovrpmbltw\\\\val\\\\15.npz', 'dataset\\\\ovrpmbtw\\\\test\\\\15.npz', 'dataset\\\\vrpmbltw\\\\test\\\\15.npz', 'dataset\\\\mdovrpbltw\\\\val\\\\15.npz', 'dataset\\\\mdovrpbtw\\\\test\\\\15.npz', 'dataset\\\\mdovrpltw\\\\test\\\\15.npz', 'dataset\\\\mdovrpmbl\\\\test\\\\15.npz', 'dataset\\\\mdovrpmbtw\\\\val\\\\15.npz', 'dataset\\\\mdvrpbltw\\\\test\\\\15.npz', 'dataset\\\\mdvrpmbltw\\\\val\\\\15.npz', 'dataset\\\\mdvrpmbtw\\\\test\\\\15.npz', 'dataset\\\\ovrpmbltw\\\\test\\\\15.npz', 'dataset\\\\mdovrpbltw\\\\test\\\\15.npz', 'dataset\\\\mdovrpmbltw\\\\val\\\\15.npz', 'dataset\\\\mdovrpmbtw\\\\test\\\\15.npz', 'dataset\\\\mdvrpmbltw\\\\test\\\\15.npz', 'dataset\\\\mdovrpmbltw\\\\test\\\\15.npz']"
   ]
  },
  {
   "cell_type": "code",
   "execution_count": null,
   "id": "2853800f",
   "metadata": {},
   "outputs": [],
   "source": [
    "data_files = sorted(data_files, key=lambda x: x.split(\"\\\\\")[-2])"
   ]
  },
  {
   "cell_type": "code",
   "execution_count": null,
   "id": "5df47fed",
   "metadata": {},
   "outputs": [],
   "source": [
    "print(data_files)"
   ]
  }
 ],
 "metadata": {
  "kernelspec": {
   "display_name": ".venv",
   "language": "python",
   "name": "python3"
  },
  "language_info": {
   "codemirror_mode": {
    "name": "ipython",
    "version": 3
   },
   "file_extension": ".py",
   "mimetype": "text/x-python",
   "name": "python",
   "nbconvert_exporter": "python",
   "pygments_lexer": "ipython3",
   "version": "3.12.7"
  }
 },
 "nbformat": 4,
 "nbformat_minor": 5
}
